{
 "cells": [
  {
   "cell_type": "code",
   "execution_count": null,
   "id": "ec8fdc34",
   "metadata": {},
   "outputs": [],
   "source": [
    "%load_ext autoreload\n",
    "%autoreload 2\n",
    "from pathlib import Path\n",
    "import pandas as pd\n",
    "idx_slice = pd.IndexSlice\n",
    "import warnings\n",
    "warnings.simplefilter(action='ignore', category=FutureWarning) # Comment out for debugging and development\n",
    "warnings.simplefilter(action='ignore', category=DeprecationWarning) # Comment out for debugging and development\n",
    "import plotly.graph_objects as go\n",
    "\n",
    "\n",
    "from plot_helpers import (\n",
    "    chdir_to_parent_dir,\n",
    "    read_stats_dict,\n",
    "    prepare_dataframe,\n",
    "    nice_title,\n",
    "    save_plotly_fig)\n",
    "\n",
    "chdir_to_parent_dir()"
   ]
  },
  {
   "cell_type": "code",
   "execution_count": null,
   "id": "9bf1d467",
   "metadata": {},
   "outputs": [],
   "source": [
    "run_name_prefix = \"H2G_A\" # Experiment name\n",
    "\n",
    "sdir = Path.cwd() / \"results\"/ f\"{run_name_prefix}_summary_20250523\"\n",
    "sdir.mkdir(exist_ok=True, parents=True)"
   ]
  },
  {
   "cell_type": "code",
   "execution_count": null,
   "id": "25b07ca0",
   "metadata": {},
   "outputs": [],
   "source": [
    "mean_marginal_prices = read_stats_dict(\"mean_marginal_prices\", sdir, keys=[\"H2 export bus\"])"
   ]
  },
  {
   "cell_type": "markdown",
   "id": "8f04b928",
   "metadata": {},
   "source": [
    "## Marginal prices | H2 export price"
   ]
  },
  {
   "cell_type": "code",
   "execution_count": null,
   "id": "885477cb",
   "metadata": {},
   "outputs": [],
   "source": [
    "print(mean_marginal_prices[\"H2 export bus\"])"
   ]
  },
  {
   "cell_type": "code",
   "execution_count": null,
   "id": "75aa1fbf",
   "metadata": {},
   "outputs": [],
   "source": [
    "df = prepare_dataframe(\n",
    "    mean_marginal_prices[\"H2 export bus\"], \n",
    "    idx_slice[[\"H2G_A\"],:,[2050],:]\n",
    ")\n",
    "\n",
    "df = df.query(\"variable in ['H2 export bus']\")\n"
   ]
  },
  {
   "cell_type": "code",
   "execution_count": null,
   "id": "d5858bf4",
   "metadata": {},
   "outputs": [],
   "source": [
    "def marginal_price_dumbbell_fig(df, year, data_start=\"0.1MtH2export\", data_end=\"0.7MtH2export\"):\n",
    "\n",
    "    df = df.copy()\n",
    "    df = df[df.year==year]\n",
    "    countries = df.sort_values(by=[\"value\"], ascending=False)[\"country\"]\n",
    "\n",
    "    data = {\"line_x\": [], \"line_y\": [], \"data_start\": [], \"data_end\": [], \"colors\": [], \"years\": [], \"countries\": []}\n",
    "\n",
    "    for country in countries:\n",
    "        data[\"data_start\"].extend([df.loc[(df.scen == data_start) & (df.country == country)][\"value\"].values[0]])\n",
    "        data[\"data_end\"].extend([df.loc[(df.scen == data_end) & (df.country == country)][\"value\"].values[0]])\n",
    "        data[\"line_x\"].extend(\n",
    "            [\n",
    "                df.loc[(df.scen == data_start) & (df.country == country)][\"value\"].values[0],\n",
    "                df.loc[(df.scen == data_end) & (df.country == country)][\"value\"].values[0],\n",
    "                None,\n",
    "            ]\n",
    "        )\n",
    "        data[\"line_y\"].extend([country, country, None]),\n",
    "\n",
    "    fig = go.Figure(\n",
    "        data=[\n",
    "            go.Scatter(\n",
    "                x=data[\"line_x\"],\n",
    "                y=data[\"line_y\"],\n",
    "                mode=\"lines\",\n",
    "                showlegend=False,\n",
    "                marker=dict(\n",
    "                    color=\"grey\"\n",
    "                )\n",
    "            ),\n",
    "            go.Scatter(\n",
    "                x=data[\"data_start\"],\n",
    "                y=countries,\n",
    "                mode=\"markers+text\",\n",
    "                name=data_start,\n",
    "                text=data[\"data_start\"],            \n",
    "                textposition=\"top center\",\n",
    "                texttemplate=\"%{text:.1f}\",\n",
    "                textfont=dict(size=11),\n",
    "                marker=dict(\n",
    "                    color=\"#A6BCC9\",\n",
    "                    size=13\n",
    "                )\n",
    "\n",
    "            ),\n",
    "            go.Scatter(\n",
    "                x=data[\"data_end\"],\n",
    "                y=countries,\n",
    "                mode=\"markers+text\",\n",
    "                name=data_end,\n",
    "                text=data[\"data_end\"],\n",
    "                textposition=\"top center\",\n",
    "                texttemplate=\"%{text:.1f}\",\n",
    "                textfont=dict(size=11),\n",
    "                marker=dict(\n",
    "                    color=\"#179c7d\",\n",
    "                    size=13\n",
    "                )\n",
    "            ),\n",
    "        ]\n",
    "    )\n",
    "\n",
    "    fig.update_layout(\n",
    "        title=dict(text=nice_title(f\"Marginal price for H2 at export port in {year}\", \n",
    "                                   \"Per country and H2 export volume in €/MWh_H2_LHV\")),\n",
    "        width=800,\n",
    "        height=500,\n",
    "        legend_itemclick=False\n",
    "    )\n",
    "    return fig"
   ]
  },
  {
   "cell_type": "code",
   "execution_count": null,
   "id": "abb17516",
   "metadata": {},
   "outputs": [],
   "source": [
    "fig = marginal_price_dumbbell_fig(df, year=2050, data_start=\"0.7MtH2export\", data_end=\"4.0MtH2export\")\n",
    "\n",
    "fig.show()"
   ]
  },
  {
   "cell_type": "code",
   "execution_count": null,
   "id": "d08ada22",
   "metadata": {},
   "outputs": [],
   "source": [
    "fig = marginal_price_dumbbell_fig(df, year=2035, data_start=\"0.1MtH2export\", data_end=\"0.7MtH2export\")\n",
    "\n",
    "fig.show()"
   ]
  }
 ],
 "metadata": {
  "kernelspec": {
   "display_name": "pypsa-earth-vis",
   "language": "python",
   "name": "python3"
  },
  "language_info": {
   "codemirror_mode": {
    "name": "ipython",
    "version": 3
   },
   "file_extension": ".py",
   "mimetype": "text/x-python",
   "name": "python",
   "nbconvert_exporter": "python",
   "pygments_lexer": "ipython3",
   "version": "3.12.10"
  }
 },
 "nbformat": 4,
 "nbformat_minor": 5
}
