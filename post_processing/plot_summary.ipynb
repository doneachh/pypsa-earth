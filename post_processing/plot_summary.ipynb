{
 "cells": [
  {
   "cell_type": "markdown",
   "id": "0a75f4cd",
   "metadata": {},
   "source": [
    "Plot the summary of statistics (energy balance, optimal capacity, ...) \n",
    "\n",
    "**Prerequisites**\n",
    "\n",
    "* Execute \"make_stats_dict.py\" before using this notebook. The script make_stats_dict creates csv for the metrics for all runs of multiple config files. \n",
    "* Install the environment envs/pypsa-earth-vis.yaml"
   ]
  },
  {
   "cell_type": "code",
   "execution_count": null,
   "id": "3619cb7c",
   "metadata": {},
   "outputs": [],
   "source": [
    "%load_ext autoreload\n",
    "%autoreload 2\n",
    "from pathlib import Path\n",
    "import pandas as pd\n",
    "idx_slice = pd.IndexSlice\n",
    "import warnings\n",
    "warnings.simplefilter(action='ignore', category=FutureWarning) # Comment out for debugging and development\n",
    "warnings.simplefilter(action='ignore', category=DeprecationWarning) # Comment out for debugging and development\n",
    "import plotly.express as px\n",
    "\n",
    "from plot_helpers import (\n",
    "    chdir_to_parent_dir,\n",
    "    read_stats_dict,\n",
    "    drop_index_levels, \n",
    "    update_layout, \n",
    "    prepare_dataframe,\n",
    "    get_supply_demand_from_balance,\n",
    "    rename_electricity, \n",
    "    rename_h2,\n",
    "    rename_gas,\n",
    "    rename_oil,\n",
    "    rename_co2,\n",
    "    rename_costs,\n",
    "    rename_to_upper_case,\n",
    "    colors,\n",
    "    nice_title,\n",
    "    save_plotly_fig)\n",
    "\n",
    "chdir_to_parent_dir()"
   ]
  },
  {
   "cell_type": "code",
   "execution_count": null,
   "id": "9c5581a5",
   "metadata": {},
   "outputs": [],
   "source": [
    "run_name_prefix = \"H2G_A\" # Experiment name\n",
    "\n",
    "sdir = Path.cwd() / \"results\"/ f\"{run_name_prefix}_summary_20250523\"\n",
    "sdir.mkdir(exist_ok=True, parents=True)\n"
   ]
  },
  {
   "cell_type": "code",
   "execution_count": null,
   "id": "db44139c",
   "metadata": {},
   "outputs": [],
   "source": [
    "balance_dict = read_stats_dict(\"balance_dict\", sdir, keys=[\"AC\", \"H2\", \"oil\", \"gas\", \"co2 stored\", \"co2\"])\n",
    "optimal_capacity_dict = read_stats_dict(\"optimal_capacity_dict\", sdir, keys=[\"AC\", \"H2\"])\n",
    "costs_dict = read_stats_dict(\"costs_dict\", sdir, keys=[\"capex\", \"opex\"])\n",
    "\n",
    "# simplify index for plotting: define a scen_str column and drop all other columns\n",
    "#NB: the following is specific to the experiment\n",
    "\n",
    "index_levels_to_drop=[\"simpl\", \"clusters\", \"ll\", \"opts\", \"sopts\", \"discountrate\", \"demand\"]\n",
    "\n",
    "for key in balance_dict.keys():\n",
    "    balance_dict[key] = drop_index_levels(balance_dict[key], to_drop=index_levels_to_drop)\n",
    "\n",
    "for key in optimal_capacity_dict.keys():\n",
    "    optimal_capacity_dict[key] = drop_index_levels(optimal_capacity_dict[key], to_drop=index_levels_to_drop)\n",
    "    \n",
    "for key in costs_dict.keys():\n",
    "    costs_dict[key] = drop_index_levels(costs_dict[key], to_drop=index_levels_to_drop)"
   ]
  },
  {
   "cell_type": "markdown",
   "id": "3f27c45d",
   "metadata": {},
   "source": [
    "# Plotting"
   ]
  },
  {
   "cell_type": "code",
   "execution_count": null,
   "id": "c469ff97",
   "metadata": {},
   "outputs": [],
   "source": [
    "print(balance_dict[\"AC\"].index.names)\n",
    "print(balance_dict[\"AC\"].index)"
   ]
  },
  {
   "cell_type": "code",
   "execution_count": null,
   "id": "699d3c0d",
   "metadata": {},
   "outputs": [],
   "source": [
    "# select and define index group (multiindex) for plots: which solutions to show at once\n",
    "\n",
    "idx_group = idx_slice[[\"H2G_A\"],[\"ZA\"],[2050],:]\n",
    "idx_group_name = \"\"\n",
    "\n",
    "print(idx_group_name) \n",
    "print(idx_group)"
   ]
  },
  {
   "cell_type": "code",
   "execution_count": null,
   "id": "e77c8007",
   "metadata": {},
   "outputs": [],
   "source": [
    "width = 700\n",
    "heights = {\"1\": 300,\"2\": 600,\"3\": 700,}\n",
    "\n",
    "fig_kwargs = dict(\n",
    "    x=\"scen\", \n",
    "    y=\"value\", \n",
    "    color=\"variable\", \n",
    "    facet_col=\"year\", \n",
    "    facet_row=\"country\",\n",
    "    barmode=\"relative\", \n",
    "    text=\"value\", \n",
    "    #facet_col_wrap=1, facet_col_spacing=0.07,\n",
    "    width=width, \n",
    "    height=heights[\"2\"],\n",
    "    text_auto =\".0f\",\n",
    ")\n",
    "\n",
    "scen_order = [] # option to specify order of scenarios in the plot\n",
    "\n"
   ]
  },
  {
   "cell_type": "code",
   "execution_count": null,
   "id": "a8f9af9a",
   "metadata": {},
   "outputs": [],
   "source": [
    "# balance_dict[\"gas\"].query(\"year == 2050 and country == 'ZA'\").T"
   ]
  },
  {
   "cell_type": "code",
   "execution_count": null,
   "id": "642d9c8b",
   "metadata": {},
   "outputs": [],
   "source": [
    "# balance_dict[\"co2 stored\"].query(\"year == 2050 and country == 'ZA'\").T"
   ]
  },
  {
   "cell_type": "markdown",
   "id": "9f7981c8",
   "metadata": {},
   "source": [
    "## Energy market balance | Electricity"
   ]
  },
  {
   "cell_type": "code",
   "execution_count": null,
   "id": "3054ec69",
   "metadata": {},
   "outputs": [],
   "source": [
    "df = prepare_dataframe(balance_dict[\"AC\"], idx_group)\n",
    "df.variable = df.variable.map(rename_electricity).map(rename_to_upper_case)\n",
    "\n",
    "(supply_df, supply_sum_df, demand_df, demand_sum_df) = get_supply_demand_from_balance(df)"
   ]
  },
  {
   "cell_type": "code",
   "execution_count": null,
   "id": "81dbd2cc",
   "metadata": {},
   "outputs": [],
   "source": [
    "fig_name = \"electricity_supply_TWh\"\n",
    "fig = px.bar(\n",
    "    supply_df, \n",
    "    **fig_kwargs,\n",
    "    labels={\"value\":\"Electricity supply in TWh<sub>el</sub>\",\n",
    "            \"year\":\"\",\n",
    "            \"variable\":\"\", \n",
    "            \"scen\":\"\"\n",
    "            },\n",
    "    color_discrete_map=colors[\"electricity\"],\n",
    "    category_orders={\n",
    "        \"variable\":list(colors[\"electricity\"].keys()),\n",
    "        \"scen\": scen_order\n",
    "        },\n",
    "    #facet_col_wrap=1, facet_col_spacing=0.07,\n",
    ")\n",
    "fig.update_layout(legend_traceorder=\"reversed\",)\n",
    "update_layout(fig)\n",
    "\n",
    "print(\"Totals per scenario and year:\", supply_sum_df)\n",
    "fig.show()\n",
    "#save_plotly_fig(supply_df, fig, sdir, f\"{idx_group_name}_{fig_name}\")"
   ]
  },
  {
   "cell_type": "code",
   "execution_count": null,
   "id": "3c7ce553",
   "metadata": {},
   "outputs": [],
   "source": [
    "fig_name = \"electricity_demand_TWh\"\n",
    "fig = px.bar(\n",
    "    demand_df, \n",
    "    **fig_kwargs,\n",
    "    color_discrete_map=colors[\"electricity\"],\n",
    "    category_orders={\n",
    "        \"variable\":list(colors[\"electricity\"].keys()),\n",
    "        \"scen\": scen_order\n",
    "        },\n",
    "    labels={\"value\":\"Electricity demand in TWh<sub>el</sub>\",\"year\":\"\",\n",
    "            \"variable\":\"\", \n",
    "            \"scen\":\"\"},\n",
    ")\n",
    "fig.update_layout(legend_traceorder=\"reversed\",)\n",
    "update_layout(fig)\n",
    "\n",
    "print(\"Totals per scenario and year:\", demand_sum_df)\n",
    "fig.show()\n",
    "#save_plotly_fig(demand_df, fig, sdir, f\"{idx_group_name}_{fig_name}\")\n"
   ]
  },
  {
   "cell_type": "markdown",
   "id": "d37cd311",
   "metadata": {},
   "source": [
    "## Energy and feedstock market balance | Hydrogen"
   ]
  },
  {
   "cell_type": "code",
   "execution_count": null,
   "id": "4402a047",
   "metadata": {},
   "outputs": [],
   "source": [
    "df = prepare_dataframe(balance_dict[\"H2\"], idx_group)\n",
    "df = df[df[\"value\"]!=0]\n",
    "df.variable = df.variable.map(rename_h2)\n",
    "\n",
    "(supply_df, supply_sum_df, demand_df, demand_sum_df) = get_supply_demand_from_balance(df)"
   ]
  },
  {
   "cell_type": "code",
   "execution_count": null,
   "id": "ece20386",
   "metadata": {},
   "outputs": [],
   "source": [
    "fig_name = \"hydrogen_balance_TWh\"\n",
    "fig = px.bar(\n",
    "    df, \n",
    "    **fig_kwargs,\n",
    "    color_discrete_map=colors[\"hydrogen\"],\n",
    "    category_orders={\n",
    "        \"variable\":list(colors[\"hydrogen\"].keys()),\n",
    "        \"scen\": scen_order\n",
    "        },\n",
    "    #facet_col_spacing=0.1,\n",
    "    labels={\"value\":\"H2 balance in TWh\",\"year\":\"\",\n",
    "            \"variable\":\"\", \n",
    "            \"scen\": \"\"},\n",
    "\n",
    ")\n",
    "update_layout(fig)\n",
    "\n",
    "print(\"Totals per scenario and year:\", demand_sum_df)\n",
    "fig.show()\n",
    "#save_plotly_fig(df, fig, fig, sdir, f\"{idx_group_name}_{fig_name}\")\n"
   ]
  },
  {
   "cell_type": "markdown",
   "id": "76717867",
   "metadata": {},
   "source": [
    "## Energy and feedstock market balance | Liquid fuel"
   ]
  },
  {
   "cell_type": "code",
   "execution_count": null,
   "id": "454c95d3",
   "metadata": {},
   "outputs": [],
   "source": [
    "df = prepare_dataframe(balance_dict[\"oil\"], idx_group)\n",
    "df = df[df[\"value\"]!=0]\n",
    "df.variable = df.variable.map(rename_oil)\n",
    "\n",
    "(supply_df, supply_sum_df, demand_df, demand_sum_df) = get_supply_demand_from_balance(df)"
   ]
  },
  {
   "cell_type": "code",
   "execution_count": null,
   "id": "c8cdadce",
   "metadata": {},
   "outputs": [],
   "source": [
    "fig_name = \"liquid_fuel_balance_TWh\"\n",
    "fig = px.bar(\n",
    "    df, \n",
    "    **fig_kwargs,\n",
    "    color_discrete_map=colors[\"oil\"],\n",
    "    category_orders={\n",
    "        \"variable\":list(colors[\"oil\"].keys()),\n",
    "        \"scen\": scen_order\n",
    "        },\n",
    "    #facet_col_spacing=0.1,\n",
    "    labels={\"value\":\"Liquid fuel balance in TWh\",\"year\":\"\",\n",
    "            \"variable\":\"\", \n",
    "            \"scen\":\"\"},\n",
    "\n",
    ")\n",
    "update_layout(fig)\n",
    "\n",
    "print(\"Totals per scenario and year:\", demand_sum_df)\n",
    "fig.show()\n",
    "#save_plotly_fig(df, fig, fig, sdir, f\"{idx_group_name}_{fig_name}\")"
   ]
  },
  {
   "cell_type": "markdown",
   "id": "5c7b991d",
   "metadata": {},
   "source": [
    "## Energy and feedstock market balance | CH4"
   ]
  },
  {
   "cell_type": "code",
   "execution_count": null,
   "id": "3e293d66",
   "metadata": {},
   "outputs": [],
   "source": [
    "df = prepare_dataframe(balance_dict[\"gas\"], idx_group)\n",
    "df = df[df[\"value\"]!=0]\n",
    "df.variable = df.variable.map(rename_gas)\n",
    "\n",
    "(supply_df, supply_sum_df, demand_df, demand_sum_df) = get_supply_demand_from_balance(df)"
   ]
  },
  {
   "cell_type": "code",
   "execution_count": null,
   "id": "870b6d8d",
   "metadata": {},
   "outputs": [],
   "source": [
    "fig_name = \"CH4_balance_TWh\"\n",
    "fig = px.bar(\n",
    "    df, \n",
    "    **fig_kwargs,\n",
    "    color_discrete_map=colors[\"gas\"],\n",
    "    category_orders={\n",
    "        \"variable\":list(colors[\"gas\"].keys()),\n",
    "        \"scen\": scen_order\n",
    "        },\n",
    "    #facet_col_spacing=0.1,\n",
    "    labels={\"value\":\"CH4 balance in TWh\",\"year\":\"\",\n",
    "            \"variable\":\"\", \n",
    "            \"scen\":\"\"},\n",
    "\n",
    ")\n",
    "update_layout(fig)\n",
    "\n",
    "print(\"Totals per scenario and year:\", demand_sum_df)\n",
    "fig.show()\n",
    "#save_plotly_fig(df, fig, fig, sdir, f\"{idx_group_name}_{fig_name}\")"
   ]
  },
  {
   "cell_type": "markdown",
   "id": "3af5d80a",
   "metadata": {},
   "source": [
    "## Energy and feedstock market balance | CO2"
   ]
  },
  {
   "cell_type": "code",
   "execution_count": null,
   "id": "596c16c0",
   "metadata": {},
   "outputs": [],
   "source": [
    "df = prepare_dataframe(balance_dict[\"co2 stored\"], idx_group)\n",
    "df = df[df[\"value\"]!=0]\n",
    "\n",
    "df.variable = df.variable.map(rename_co2)\n",
    "\n",
    "(supply_df, supply_sum_df, demand_df, demand_sum_df) = get_supply_demand_from_balance(df)"
   ]
  },
  {
   "cell_type": "code",
   "execution_count": null,
   "id": "801335e3",
   "metadata": {},
   "outputs": [],
   "source": [
    "fig = px.bar(\n",
    "    df, \n",
    "    **fig_kwargs,\n",
    "    color_discrete_map=colors[\"co2\"],\n",
    "    category_orders={\n",
    "        \"variable\":list(colors[\"gas\"].keys()),\n",
    "        \"scen\": scen_order\n",
    "        },\n",
    "    #facet_col_spacing=0.1,\n",
    "    labels={\"value\":\"CO<sub>2</sub> Capture (+) and Usage (-) in Mt\",\"year\":\"\",\"variable\":\"\", \"scen\":\"\"},\n",
    ")\n",
    "update_layout(fig)\n",
    "\n",
    "print(\"Totals per scenario and year:\", demand_sum_df)\n",
    "fig.show()\n",
    "#save_plotly_fig(df, fig, fig, sdir, f\"{idx_group_name}_CO2_capture_and_usage_Mt\")"
   ]
  },
  {
   "cell_type": "markdown",
   "id": "336c954b",
   "metadata": {},
   "source": [
    "## CO2 atmosphere balance"
   ]
  },
  {
   "cell_type": "code",
   "execution_count": null,
   "id": "98f15030",
   "metadata": {},
   "outputs": [],
   "source": [
    "df = prepare_dataframe(balance_dict[\"co2\"], idx_group)\n",
    "\n",
    "df.variable = df.variable.map(rename_co2)\n",
    "\n",
    "(supply_df, supply_sum_df, demand_df, demand_sum_df) = get_supply_demand_from_balance(df)"
   ]
  },
  {
   "cell_type": "code",
   "execution_count": null,
   "id": "2fe88050",
   "metadata": {},
   "outputs": [],
   "source": [
    "fig_name = \"co2_emissions_mt\"\n",
    "fig = px.bar(\n",
    "    df, \n",
    "    **fig_kwargs,\n",
    "    labels={\"value\":\"CO2 emissions in Mt<sub>CO2</sub>\",\n",
    "            \"year\":\"\",\n",
    "            \"variable\":\"\", \n",
    "            \"scen\":\"\"\n",
    "            },\n",
    "    color_discrete_map=colors[\"co2\"],\n",
    "    category_orders={\n",
    "        \"variable\":list(colors[\"co2\"].keys()),\n",
    "        \"scen\": scen_order\n",
    "        },\n",
    "    #facet_col_wrap=1, facet_col_spacing=0.07,\n",
    ")\n",
    "fig.update_layout(legend_traceorder=\"reversed\",)\n",
    "update_layout(fig)\n",
    "\n",
    "print(\"Totals per scenario and year:\", supply_sum_df)\n",
    "fig.show()\n",
    "#save_plotly_fig(supply_df, fig, sdir, f\"{idx_group_name}_{fig_name}\")"
   ]
  },
  {
   "cell_type": "code",
   "execution_count": null,
   "id": "676ed151",
   "metadata": {},
   "outputs": [],
   "source": []
  },
  {
   "cell_type": "code",
   "execution_count": null,
   "id": "1e55bdcd",
   "metadata": {},
   "outputs": [],
   "source": [
    "df = prepare_dataframe(optimal_capacity_dict[\"AC\"], idx_group)\n",
    "df = df[df[\"value\"]<1e6] #drop loadshedding capacity\n",
    "df.variable = df.variable.map(rename_electricity).map(rename_to_upper_case)\n",
    "\n",
    "(supply_df, supply_sum_df, demand_df, demand_sum_df) = get_supply_demand_from_balance(df)"
   ]
  },
  {
   "cell_type": "code",
   "execution_count": null,
   "id": "59024133",
   "metadata": {},
   "outputs": [],
   "source": [
    "fig_name = \"electricity_installed_capacity_GW\"\n",
    "fig = px.bar(\n",
    "    df, \n",
    "    **fig_kwargs,\n",
    "    #barmode=\"stack\",\n",
    "    color_discrete_map=colors[\"electricity\"],\n",
    "    category_orders={\n",
    "        \"variable\":list(colors[\"electricity\"].keys()),\n",
    "        \"scen\": scen_order\n",
    "        },\n",
    "    #facet_col_spacing=0.1,\n",
    "    #range_y=(0,supply_sum_df.max().value*1.1),\n",
    "    labels={\"value\":\"Installed capacity in GW<sub>el</sub>\",\"year\":\"\",\n",
    "            #\"variable\":\"\",\n",
    "            \"scen\":\"\"},\n",
    ")\n",
    "update_layout(fig)\n",
    "\n",
    "print(\"Totals per scenario and year:\", supply_sum_df)\n",
    "fig.show()\n",
    "#save_plotly_fig(df, fig, fig, sdir, f\"{idx_group_name}_{fig_name}\")"
   ]
  },
  {
   "cell_type": "code",
   "execution_count": null,
   "id": "9c38b1e8",
   "metadata": {},
   "outputs": [],
   "source": [
    "df = prepare_dataframe(optimal_capacity_dict[\"H2\"], idx_group)\n",
    "df = df[df[\"value\"]<1e6] #drop loadshedding capacity\n",
    "df.variable = df.variable.map(rename_h2)\n",
    "\n",
    "(supply_df, supply_sum_df, demand_df, demand_sum_df) = get_supply_demand_from_balance(df)"
   ]
  },
  {
   "cell_type": "code",
   "execution_count": null,
   "id": "26648f2f",
   "metadata": {},
   "outputs": [],
   "source": [
    "fig_name = \"hydrogen_installed_capacity_GW\"\n",
    "fig = px.bar(\n",
    "    df, \n",
    "    **fig_kwargs,\n",
    "    color_discrete_map={\"H2 Electrolysis\":\"#179c7d\"},\n",
    "    category_orders={\n",
    "        #\"variable\":list(colors[\"gas\"].keys())\n",
    "        \"scen\": scen_order\n",
    "        },\n",
    "    labels={\"value\":\"Installed capacity in GW<sub>H2</sub>\",\"year\":\"\",\"variable\":\"\",\"scen\":\"\"},\n",
    ")\n",
    "update_layout(fig)\n",
    "\n",
    "print(\"Totals per scenario and year:\", supply_sum_df)\n",
    "fig.show()\n",
    "#save_plotly_fig(df, fig, fig, sdir, f\"{idx_group_name}_{fig_name}\")"
   ]
  },
  {
   "cell_type": "code",
   "execution_count": null,
   "id": "384449b9",
   "metadata": {},
   "outputs": [],
   "source": [
    "stats_df = pd.concat([costs_dict[\"capex\"],costs_dict[\"opex\"]],axis=0)\n",
    "df = prepare_dataframe(stats_df, idx_group)\n",
    "df.variable = df.variable.map(rename_costs) # ToDo rename important cost components\n",
    "df = df.groupby([\"run_name_prefix\", \"scen\", \"year\", \"country\", \"variable\"], as_index=False).sum().round(1)\n",
    "df = df[df[\"value\"]!=0]\n",
    "\n",
    "# (supply_df, supply_sum_df, demand_df, demand_sum_df) = get_supply_demand_from_balance(df, threshold=0., round=1)"
   ]
  },
  {
   "cell_type": "code",
   "execution_count": null,
   "id": "39cb41fa",
   "metadata": {},
   "outputs": [],
   "source": [
    "fig_name = \"system_costs_billion_eur\" # expenditure and export revenue\n",
    "fig_kwargs[\"height\"] = heights[\"3\"]\n",
    "fig_kwargs[\"text_auto\"] = \".1f\"\n",
    "fig = px.bar(\n",
    "    df, \n",
    "    **fig_kwargs,\n",
    "    color_discrete_map=colors[\"costs\"],\n",
    "    category_orders={\n",
    "        \"variable\":list(colors[\"costs\"].keys()),\n",
    "        #\"scen\": scen_order\n",
    "        },\n",
    "    facet_col_spacing=0.1,\n",
    "    labels={\"value\":\"System costs in billion EUR20XX/year\",\"year\":\"\", \n",
    "            #\"variable\":\"\", \n",
    "            \"scen\":\"\"},\n",
    ")\n",
    "update_layout(fig)\n",
    "\n",
    "print(\"Totals per scenario and year:\", supply_sum_df)\n",
    "fig.show()\n",
    "#save_plotly_fig(df, fig, fig, sdir, f\"{idx_group_name}_installed_capacity_AC_GW\")"
   ]
  },
  {
   "cell_type": "markdown",
   "id": "31bf4ccc",
   "metadata": {},
   "source": [
    "## Relative costs\n",
    "\n",
    "costs / total energy consumption"
   ]
  },
  {
   "cell_type": "code",
   "execution_count": null,
   "id": "b5e2689c",
   "metadata": {},
   "outputs": [],
   "source": []
  },
  {
   "cell_type": "markdown",
   "id": "1f15a937",
   "metadata": {},
   "source": [
    "## Water consumption"
   ]
  }
 ],
 "metadata": {
  "kernelspec": {
   "display_name": "pypsa-earth-vis",
   "language": "python",
   "name": "python3"
  },
  "language_info": {
   "codemirror_mode": {
    "name": "ipython",
    "version": 3
   },
   "file_extension": ".py",
   "mimetype": "text/x-python",
   "name": "python",
   "nbconvert_exporter": "python",
   "pygments_lexer": "ipython3",
   "version": "3.12.10"
  }
 },
 "nbformat": 4,
 "nbformat_minor": 5
}
